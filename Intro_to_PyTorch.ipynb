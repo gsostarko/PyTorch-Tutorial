{
  "nbformat": 4,
  "nbformat_minor": 0,
  "metadata": {
    "colab": {
      "provenance": [],
      "authorship_tag": "ABX9TyM7eGSDVJWcsRH02QfxRPn6",
      "include_colab_link": true
    },
    "kernelspec": {
      "name": "python3",
      "display_name": "Python 3"
    },
    "language_info": {
      "name": "python"
    }
  },
  "cells": [
    {
      "cell_type": "markdown",
      "metadata": {
        "id": "view-in-github",
        "colab_type": "text"
      },
      "source": [
        "<a href=\"https://colab.research.google.com/github/gsostarko/PyTorch-Tutorial/blob/main/Intro_to_PyTorch.ipynb\" target=\"_parent\"><img src=\"https://colab.research.google.com/assets/colab-badge.svg\" alt=\"Open In Colab\"/></a>"
      ]
    },
    {
      "cell_type": "code",
      "execution_count": 3,
      "metadata": {
        "id": "OUJgYNTzXevF"
      },
      "outputs": [],
      "source": [
        "import torch\n"
      ]
    },
    {
      "cell_type": "markdown",
      "source": [
        "## Definiranje tenzora"
      ],
      "metadata": {
        "id": "akotplQubtCR"
      }
    },
    {
      "cell_type": "code",
      "source": [
        "x = torch.empty(3)\n",
        "print(x)"
      ],
      "metadata": {
        "colab": {
          "base_uri": "https://localhost:8080/"
        },
        "id": "RRW53n0tXz6-",
        "outputId": "23469f72-7022-47ac-85a2-a018dd260c7d"
      },
      "execution_count": 5,
      "outputs": [
        {
          "output_type": "stream",
          "name": "stdout",
          "text": [
            "tensor([1.7024e-34, 0.0000e+00, 3.8097e-03])\n"
          ]
        }
      ]
    },
    {
      "cell_type": "code",
      "source": [
        "x = torch.empty(3, 3)\n",
        "print(x)"
      ],
      "metadata": {
        "colab": {
          "base_uri": "https://localhost:8080/"
        },
        "id": "NznB7TFzZoTL",
        "outputId": "fb671535-1f19-4e7e-861e-5c2762949e65"
      },
      "execution_count": 7,
      "outputs": [
        {
          "output_type": "stream",
          "name": "stdout",
          "text": [
            "tensor([[3.8097e-03, 4.5660e-41, 3.8097e-03],\n",
            "        [4.5660e-41, 0.0000e+00, 0.0000e+00],\n",
            "        [0.0000e+00, 0.0000e+00, 0.0000e+00]])\n"
          ]
        }
      ]
    },
    {
      "cell_type": "code",
      "source": [
        "x = torch.empty(3, 3, dtype=torch.int) #torch.int / torch.double / torch.float16\n",
        "print(x.size()) # size() ispis dimenzije"
      ],
      "metadata": {
        "colab": {
          "base_uri": "https://localhost:8080/"
        },
        "id": "VI1LHjE1Zv4z",
        "outputId": "7b936929-63f7-4ddc-f849-7837be27340e"
      },
      "execution_count": 10,
      "outputs": [
        {
          "output_type": "stream",
          "name": "stdout",
          "text": [
            "torch.Size([3, 3])\n"
          ]
        }
      ]
    },
    {
      "cell_type": "code",
      "source": [
        "x = torch.ones(2,2) # ispisuje matricu s jedinicama\n",
        "print(x)"
      ],
      "metadata": {
        "colab": {
          "base_uri": "https://localhost:8080/"
        },
        "id": "sM_UPLezZ6bS",
        "outputId": "1fa107d5-4577-49df-e77c-8ea8f25112be"
      },
      "execution_count": 11,
      "outputs": [
        {
          "output_type": "stream",
          "name": "stdout",
          "text": [
            "tensor([[1., 1.],\n",
            "        [1., 1.]])\n"
          ]
        }
      ]
    },
    {
      "cell_type": "code",
      "source": [
        "x = torch.tensor([2.5, 0.1]) #stvaranje tenzora\n",
        "print(x)"
      ],
      "metadata": {
        "colab": {
          "base_uri": "https://localhost:8080/"
        },
        "id": "0XdzNRtxaMsC",
        "outputId": "24e53842-7dc8-4089-9f15-71041d76e1f7"
      },
      "execution_count": 12,
      "outputs": [
        {
          "output_type": "stream",
          "name": "stdout",
          "text": [
            "tensor([2.5000, 0.1000])\n"
          ]
        }
      ]
    },
    {
      "cell_type": "markdown",
      "source": [
        "## Zbrajanje tenzora"
      ],
      "metadata": {
        "id": "FERW-sqMbpv5"
      }
    },
    {
      "cell_type": "code",
      "source": [
        "x = torch.rand(2,2)\n",
        "y = torch.rand(2,2)\n",
        "\n",
        "print(f\"x= {x}\")\n",
        "print(f\"y= {y}\")\n",
        "\n",
        "#jednostavne matematičke operacije\n",
        "z = x + y\n",
        "print(f\"z= {z}\")\n",
        "#također moguće je zbrojiti sa\n",
        "z = torch.add(x,y)\n",
        "print(f\"z= {z}\")"
      ],
      "metadata": {
        "colab": {
          "base_uri": "https://localhost:8080/"
        },
        "id": "mVwqa09haZXC",
        "outputId": "eb942978-ae9c-4459-f02f-a5fd24cd5aed"
      },
      "execution_count": 19,
      "outputs": [
        {
          "output_type": "stream",
          "name": "stdout",
          "text": [
            "x= tensor([[0.5239, 0.8416],\n",
            "        [0.9144, 0.4705]])\n",
            "y= tensor([[0.1291, 0.9857],\n",
            "        [0.4016, 0.8382]])\n",
            "z= tensor([[0.6530, 1.8273],\n",
            "        [1.3160, 1.3087]])\n",
            "z= tensor([[0.6530, 1.8273],\n",
            "        [1.3160, 1.3087]])\n"
          ]
        }
      ]
    },
    {
      "cell_type": "markdown",
      "source": [
        "## Oduzimanje tezora"
      ],
      "metadata": {
        "id": "3oqequy3bnQB"
      }
    },
    {
      "cell_type": "code",
      "source": [
        "x = torch.rand(2,2)\n",
        "y = torch.rand(2,2)\n",
        "\n",
        "print(f\"x= {x}\")\n",
        "print(f\"y= {y}\")\n",
        "\n",
        "\n",
        "z = x - y\n",
        "print(f\"z= {z}\")\n",
        "\n",
        "z = torch.sub(x,y)\n",
        "print(f\"z= {z}\")"
      ],
      "metadata": {
        "colab": {
          "base_uri": "https://localhost:8080/"
        },
        "id": "kKZBIIVwa75C",
        "outputId": "607b54d9-ee7f-4502-bcf2-5f85f68a4fb7"
      },
      "execution_count": 21,
      "outputs": [
        {
          "output_type": "stream",
          "name": "stdout",
          "text": [
            "x= tensor([[0.1807, 0.6992],\n",
            "        [0.8556, 0.1399]])\n",
            "y= tensor([[0.2526, 0.2962],\n",
            "        [0.0629, 0.8676]])\n",
            "z= tensor([[-0.0719,  0.4030],\n",
            "        [ 0.7927, -0.7277]])\n",
            "z= tensor([[-0.0719,  0.4030],\n",
            "        [ 0.7927, -0.7277]])\n"
          ]
        }
      ]
    },
    {
      "cell_type": "markdown",
      "source": [
        "## Multiplikacija tenzora"
      ],
      "metadata": {
        "id": "x9L0GX4eb7QA"
      }
    },
    {
      "cell_type": "code",
      "source": [
        "x = torch.rand(2,2)\n",
        "y = torch.rand(2,2)\n",
        "\n",
        "print(f\"x= {x}\")\n",
        "print(f\"y= {y}\")\n",
        "\n",
        "\n",
        "z = x * y\n",
        "print(f\"z= {z}\")\n",
        "\n",
        "z = torch.mul(x,y)\n",
        "print(f\"z= {z}\")"
      ],
      "metadata": {
        "colab": {
          "base_uri": "https://localhost:8080/"
        },
        "id": "lednq83Pbk4Z",
        "outputId": "f08d50f7-e74e-40b7-ecb7-4e56c3a88a83"
      },
      "execution_count": 22,
      "outputs": [
        {
          "output_type": "stream",
          "name": "stdout",
          "text": [
            "x= tensor([[0.2917, 0.7700],\n",
            "        [0.7492, 0.9764]])\n",
            "y= tensor([[0.5598, 0.7257],\n",
            "        [0.1022, 0.8180]])\n",
            "z= tensor([[0.1633, 0.5588],\n",
            "        [0.0765, 0.7987]])\n",
            "z= tensor([[0.1633, 0.5588],\n",
            "        [0.0765, 0.7987]])\n"
          ]
        }
      ]
    },
    {
      "cell_type": "code",
      "source": [],
      "metadata": {
        "id": "KNa_wq0bcBUY"
      },
      "execution_count": null,
      "outputs": []
    }
  ]
}